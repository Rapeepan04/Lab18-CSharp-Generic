{
 "cells": [
  {
   "cell_type": "markdown",
   "metadata": {
    "polyglot_notebook": {
     "kernelName": "csharp"
    }
   },
   "source": [
    "# Lab 18 Exercise 7\n",
    "\n"
   ]
  },
  {
   "cell_type": "markdown",
   "metadata": {},
   "source": [
    "## Generic list\n",
    "\n"
   ]
  },
  {
   "cell_type": "markdown",
   "metadata": {},
   "source": [
    "1.สร้าง console application project\n",
    "\n",
    "```cmd\n",
    "dotnet new console --name Lab18_Ex07\n",
    "```\n",
    "\n"
   ]
  },
  {
   "cell_type": "markdown",
   "metadata": {},
   "source": [
    "2.เปลี่ยน code ให้เป็นดังต่อไปนี้\n",
    "\n",
    "```csharp\n",
    "using System.Collections;\n",
    "\n",
    "List<string> CourseName = new List<string>();\n",
    "CourseName.Add(\"OOP\");\n",
    "CourseName.Add(\"Network\");\n",
    "CourseName.Add(\"Electronics\");\n",
    "CourseName.Add(\"Web programming\");\n",
    "\n",
    "foreach (var item in CourseName)\n",
    "{\n",
    "    System.Console.WriteLine(item);\n",
    "}\n",
    "\n",
    "List<int> CourseID = new List<int>();\n",
    "CourseID.Add(3687);\n",
    "CourseID.Add(3785);\n",
    "CourseID.Add(3781);\n",
    "CourseID.Add(3722);\n",
    "\n",
    "foreach (var item in CourseID)\n",
    "{\n",
    "    System.Console.WriteLine(item);\n",
    "}\n",
    "\n",
    "int count = CourseID.Count < CourseName.Count ? CourseID.Count : CourseName.Count;\n",
    "\n",
    "\n",
    "for (int i = 0; i < count; i++)\n",
    "{\n",
    "    Console.WriteLine(CourseID[i] + \" \" + CourseName[i]);\n",
    "}\n",
    "```\n",
    "\n"
   ]
  },
  {
   "cell_type": "markdown",
   "metadata": {},
   "source": [
    "3.Build project โดยการใช้คำสั่ง\n",
    "\n",
    "```cmd\n",
    "dotnet build  Lab18_Ex07\n",
    "```\n",
    "\n",
    "ถ้ามีที่ผิดพลาดในโปรแกรม ให้แก้ไขให้ถูกต้อง\n",
    "\n"
   ]
  },
  {
   "cell_type": "markdown",
   "metadata": {},
   "source": [
    "4.บันทึกผลที่ได้จากการรันคำสั่งในข้อ 3\n",
    "\n"
   ]
  },
  {
   "cell_type": "markdown",
   "metadata": {},
   "source": [
    "Build succeeded.\n",
    "\n",
    "    0 Warning(s)\n",
    "    \n",
    "    0 Error(s)"
   ]
  },
  {
   "cell_type": "markdown",
   "metadata": {},
   "source": [
    "5.Run project โดยการใช้คำสั่ง\n",
    "\n",
    "```cmd\n",
    "dotnet run --project Lab18_Ex07\n",
    "```\n",
    "\n"
   ]
  },
  {
   "cell_type": "markdown",
   "metadata": {},
   "source": [
    "6.บันทึกผลที่ได้จากการรันคำสั่งในข้อ 5\n",
    "\n"
   ]
  },
  {
   "cell_type": "markdown",
   "metadata": {},
   "source": [
    "Web programming\n",
    "\n",
    "3687\n",
    "\n",
    "3785\n",
    "\n",
    "3781\n",
    "\n",
    "3722\n",
    "\n",
    "3687 OOP\n",
    "\n",
    "3785 Network\n",
    "\n",
    "3781 Electronics\n",
    "\n",
    "3722 Web programming"
   ]
  },
  {
   "cell_type": "markdown",
   "metadata": {},
   "source": [
    "7.อธิบายสิ่งที่พบในการทดลอง\n"
   ]
  },
  {
   "cell_type": "markdown",
   "metadata": {},
   "source": [
    "ใช้ List<T> เพื่อเก็บชื่อวิชา (CourseName) และรหัสวิชา (CourseID) จากนั้นแสดงผลข้อมูลทั้งสองแยกกัน และสุดท้ายจับคู่รหัสวิชากับชื่อวิชาแล้วพิมพ์ออกมา"
   ]
  }
 ],
 "metadata": {
  "kernelspec": {
   "display_name": ".NET (C#)",
   "language": "C#",
   "name": ".net-csharp"
  },
  "polyglot_notebook": {
   "kernelInfo": {
    "defaultKernelName": "csharp",
    "items": [
     {
      "aliases": [],
      "languageName": "csharp",
      "name": "csharp"
     }
    ]
   }
  }
 },
 "nbformat": 4,
 "nbformat_minor": 2
}
